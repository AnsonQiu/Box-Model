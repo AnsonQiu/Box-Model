{
  "nbformat": 4,
  "nbformat_minor": 0,
  "metadata": {
    "colab": {
      "provenance": [],
      "authorship_tag": "ABX9TyOcPDTXVhHqvknxmKfd/XRv",
      "include_colab_link": true
    },
    "kernelspec": {
      "name": "python3",
      "display_name": "Python 3"
    },
    "language_info": {
      "name": "python"
    }
  },
  "cells": [
    {
      "cell_type": "markdown",
      "metadata": {
        "id": "view-in-github",
        "colab_type": "text"
      },
      "source": [
        "<a href=\"https://colab.research.google.com/github/AnsonQiu/Box-Model/blob/main/Assignment_0_aws.ipynb\" target=\"_parent\"><img src=\"https://colab.research.google.com/assets/colab-badge.svg\" alt=\"Open In Colab\"/></a>"
      ]
    },
    {
      "cell_type": "code",
      "source": [
        "from multiprocessing   import Pool\n",
        "from tqdm import *\n",
        "import pandas as pd\n",
        "import numpy as np\n",
        "\n",
        "\n",
        "\n",
        "\n"
      ],
      "metadata": {
        "id": "Wh2tTkoMM6sg"
      },
      "execution_count": 1,
      "outputs": []
    },
    {
      "cell_type": "code",
      "source": [
        "#Question 1: Explain what the code below is trying to do. Describe each step.\n",
        "data = pd.read_csv(\"http://www.nasdaqtrader.com/dynamic/SymDir/nasdaqtraded.txt\", sep='|')\n",
        "data_clean = data[data['Test Issue'] == 'N']\n",
        "symbols = set(data_clean['NASDAQ Symbol'].tolist())\n",
        "data = pd.read_csv(\"http://www.nasdaqtrader.com/dynamic/SymDir/otherlisted.txt\", sep='|')\n",
        "data_clean = data[data['Test Issue'] == 'N']\n",
        "symbols = set(data_clean['NASDAQ Symbol'].tolist())\n"
      ],
      "metadata": {
        "id": "5HN0Mhq4LFe2"
      },
      "execution_count": 2,
      "outputs": []
    },
    {
      "cell_type": "code",
      "source": [
        "#Describe your answer below.\n",
        "#Answer 1: The first command retrieves data from the file and separate each column\n",
        "#          of the dataset by the character \"|\". The second command selects dataset with\n",
        "#          the rows with the column \"Test Issue\" entry == 'N'. The third command creates\n",
        "#          a set of values for the new dataset's values in the column 'NASDAQ Symbol'. The\n",
        "#          next three commands basically does the samething except changing the dataset. "
      ],
      "metadata": {
        "id": "MYY6pkbnMUvO"
      },
      "execution_count": 3,
      "outputs": []
    },
    {
      "cell_type": "code",
      "source": [
        "!wget  -O stocks.parquet https://www.dropbox.com/s/gzpi950gfdz9dsk/stocks.parquet?dl=1 # lets download the data"
      ],
      "metadata": {
        "id": "5b3j282aZMIO",
        "colab": {
          "base_uri": "https://localhost:8080/"
        },
        "outputId": "cef2ee95-5db8-44b4-882c-1a576a7c396e"
      },
      "execution_count": 4,
      "outputs": [
        {
          "output_type": "stream",
          "name": "stdout",
          "text": [
            "--2023-01-27 18:13:26--  https://www.dropbox.com/s/gzpi950gfdz9dsk/stocks.parquet?dl=1\r\n",
            "Resolving www.dropbox.com (www.dropbox.com)... 162.125.6.18, 2620:100:601c:18::a27d:612\r\n",
            "Connecting to www.dropbox.com (www.dropbox.com)|162.125.6.18|:443... connected.\n",
            "HTTP request sent, awaiting response... 302 Found\n",
            "Location: /s/dl/gzpi950gfdz9dsk/stocks.parquet [following]\n",
            "--2023-01-27 18:13:26--  https://www.dropbox.com/s/dl/gzpi950gfdz9dsk/stocks.parquet\n",
            "Reusing existing connection to www.dropbox.com:443.\n",
            "HTTP request sent, awaiting response... 302 Found\n",
            "Location: https://uc31f891d2e3b1f1c1c119970235.dl.dropboxusercontent.com/cd/0/get/B1WyxUTxN9cz6eZOBJ3zndQqyBRH8PKVGLIAXn6msBPLPCl8FKlqvvSGng-7zKbuL5FFJKzX6jsIm9PxqvEXvWhogrg-EUN3g5EiZ_7qHFTMVz-1NJzOqlpKAC_ufreLZVhg6vdr8RQ9zokRXk5Bu7tSNp5_pJU5MTWnccTbYud9ZQ/file?dl=1# [following]\n",
            "--2023-01-27 18:13:26--  https://uc31f891d2e3b1f1c1c119970235.dl.dropboxusercontent.com/cd/0/get/B1WyxUTxN9cz6eZOBJ3zndQqyBRH8PKVGLIAXn6msBPLPCl8FKlqvvSGng-7zKbuL5FFJKzX6jsIm9PxqvEXvWhogrg-EUN3g5EiZ_7qHFTMVz-1NJzOqlpKAC_ufreLZVhg6vdr8RQ9zokRXk5Bu7tSNp5_pJU5MTWnccTbYud9ZQ/file?dl=1\n",
            "Resolving uc31f891d2e3b1f1c1c119970235.dl.dropboxusercontent.com (uc31f891d2e3b1f1c1c119970235.dl.dropboxusercontent.com)... 162.125.6.15, 2620:100:601c:15::a27d:60f\n",
            "Connecting to uc31f891d2e3b1f1c1c119970235.dl.dropboxusercontent.com (uc31f891d2e3b1f1c1c119970235.dl.dropboxusercontent.com)|162.125.6.15|:443... connected.\n",
            "HTTP request sent, awaiting response... 200 OK\n",
            "Length: 678640589 (647M) [application/binary]\n",
            "Saving to: ‘stocks.parquet’\n",
            "\n",
            "stocks.parquet      100%[===================>] 647.20M   109MB/s    in 6.1s    \n",
            "\n",
            "2023-01-27 18:13:33 (106 MB/s) - ‘stocks.parquet’ saved [678640589/678640589]\n",
            "\n"
          ]
        }
      ]
    },
    {
      "cell_type": "code",
      "source": [
        "!ls stocks.parquet -l #downloaded file"
      ],
      "metadata": {
        "colab": {
          "base_uri": "https://localhost:8080/"
        },
        "id": "jPZoUqKNZhRX",
        "outputId": "a57d186c-19c9-4308-e269-02c047eca586"
      },
      "execution_count": 5,
      "outputs": [
        {
          "output_type": "stream",
          "name": "stdout",
          "text": [
            "-rw-rw-r-- 1 ubuntu ubuntu 678640589 Jan 27 18:13 stocks.parquet\r\n"
          ]
        }
      ]
    },
    {
      "cell_type": "code",
      "source": [
        "#Bonus question 1 - find on internet and write the command that will download the all data from the symbols list. "
      ],
      "metadata": {
        "id": "m9ZaZDOgNxhF"
      },
      "execution_count": 6,
      "outputs": []
    },
    {
      "cell_type": "code",
      "source": [],
      "metadata": {
        "id": "_gESNNUJMQIx"
      },
      "execution_count": 6,
      "outputs": []
    },
    {
      "cell_type": "code",
      "source": [
        "data=pd.read_parquet('stocks.parquet')"
      ],
      "metadata": {
        "id": "AldxdSqFZ1mC"
      },
      "execution_count": 7,
      "outputs": []
    },
    {
      "cell_type": "code",
      "source": [
        "data.head(1) # Below shows a sample of the data.\n",
        "#date - describes the day of the price\n",
        "#open - the price at which stock opened\n",
        "#high - what was the intraday high\n",
        "#low - what is the intraday low\n",
        "#close - what was the closing price\n",
        "#adj_close - the price calculated after adjusting for all future stock splits\n",
        "#dividends - what are the dividends that were paid on the day.\n",
        "#stock_splits - if the stock was split\n",
        "#symbol the symbol of the stock\n",
        "\n"
      ],
      "metadata": {
        "colab": {
          "base_uri": "https://localhost:8080/",
          "height": 81
        },
        "id": "JLriTcuObF3k",
        "outputId": "e89f24e8-d13d-4e92-f2c4-5cc7bc02aec8"
      },
      "execution_count": 8,
      "outputs": [
        {
          "output_type": "execute_result",
          "data": {
            "text/plain": [
              "         date      open      high       low     close  adj_close     volume  \\\n",
              "0  1962-01-02  0.131273  0.131273  0.124177  0.124177   0.045278  2480333.0   \n",
              "\n",
              "   dividends stock_splits symbol  day  year  month dayofweek  \n",
              "0        0.0          0.0    HPQ    2  1962      1   Tuesday  "
            ],
            "text/html": [
              "<div>\n",
              "<style scoped>\n",
              "    .dataframe tbody tr th:only-of-type {\n",
              "        vertical-align: middle;\n",
              "    }\n",
              "\n",
              "    .dataframe tbody tr th {\n",
              "        vertical-align: top;\n",
              "    }\n",
              "\n",
              "    .dataframe thead th {\n",
              "        text-align: right;\n",
              "    }\n",
              "</style>\n",
              "<table border=\"1\" class=\"dataframe\">\n",
              "  <thead>\n",
              "    <tr style=\"text-align: right;\">\n",
              "      <th></th>\n",
              "      <th>date</th>\n",
              "      <th>open</th>\n",
              "      <th>high</th>\n",
              "      <th>low</th>\n",
              "      <th>close</th>\n",
              "      <th>adj_close</th>\n",
              "      <th>volume</th>\n",
              "      <th>dividends</th>\n",
              "      <th>stock_splits</th>\n",
              "      <th>symbol</th>\n",
              "      <th>day</th>\n",
              "      <th>year</th>\n",
              "      <th>month</th>\n",
              "      <th>dayofweek</th>\n",
              "    </tr>\n",
              "  </thead>\n",
              "  <tbody>\n",
              "    <tr>\n",
              "      <th>0</th>\n",
              "      <td>1962-01-02</td>\n",
              "      <td>0.131273</td>\n",
              "      <td>0.131273</td>\n",
              "      <td>0.124177</td>\n",
              "      <td>0.124177</td>\n",
              "      <td>0.045278</td>\n",
              "      <td>2480333.0</td>\n",
              "      <td>0.0</td>\n",
              "      <td>0.0</td>\n",
              "      <td>HPQ</td>\n",
              "      <td>2</td>\n",
              "      <td>1962</td>\n",
              "      <td>1</td>\n",
              "      <td>Tuesday</td>\n",
              "    </tr>\n",
              "  </tbody>\n",
              "</table>\n",
              "</div>"
            ]
          },
          "metadata": {},
          "execution_count": 8
        }
      ]
    },
    {
      "cell_type": "code",
      "source": [
        "# Question 2 find top 20 best performer stocks - i.e. the stocks that provided the best return.\n",
        "# if the stocks adj_close on the earliest date was X and the adj_close on the 2021-01-01 is y and the number of days elapsed between these dates is Z.\n",
        "# Then return = Y/X/Z\n",
        "# Sort the stocks by this return and find the top 20"
      ],
      "metadata": {
        "id": "c3vJMi_8bAwC"
      },
      "execution_count": 9,
      "outputs": []
    },
    {
      "cell_type": "code",
      "source": [
        "dataS = data[[\"date\", \"adj_close\", \"symbol\"]]\n",
        "dataS['date'] = pd.to_datetime(dataS['date'], format='%Y-%m-%d')\n",
        "dataS.sort_values(by='date', inplace= True)\n",
        "df = dataS.groupby('symbol')['date', 'adj_close'].agg(['first', 'last'])\n",
        "dfX = df['adj_close', 'first']\n",
        "dfY = df['adj_close', 'last']\n",
        "dfZ = df['date', 'last'] - df['date', 'first']"
      ],
      "metadata": {
        "id": "axqX8kMoRuzw",
        "colab": {
          "base_uri": "https://localhost:8080/"
        },
        "outputId": "1f3df535-2273-4cd9-a895-b5b11d6e34bd"
      },
      "execution_count": 10,
      "outputs": [
        {
          "output_type": "stream",
          "name": "stderr",
          "text": [
            "/tmp/ipykernel_2219/718787043.py:2: SettingWithCopyWarning: \n",
            "A value is trying to be set on a copy of a slice from a DataFrame.\n",
            "Try using .loc[row_indexer,col_indexer] = value instead\n",
            "\n",
            "See the caveats in the documentation: https://pandas.pydata.org/pandas-docs/stable/user_guide/indexing.html#returning-a-view-versus-a-copy\n",
            "  dataS['date'] = pd.to_datetime(dataS['date'], format='%Y-%m-%d')\n",
            "/tmp/ipykernel_2219/718787043.py:3: SettingWithCopyWarning: \n",
            "A value is trying to be set on a copy of a slice from a DataFrame\n",
            "\n",
            "See the caveats in the documentation: https://pandas.pydata.org/pandas-docs/stable/user_guide/indexing.html#returning-a-view-versus-a-copy\n",
            "  dataS.sort_values(by='date', inplace= True)\n",
            "/tmp/ipykernel_2219/718787043.py:4: FutureWarning: Indexing with multiple keys (implicitly converted to a tuple of keys) will be deprecated, use a list instead.\n",
            "  df = dataS.groupby('symbol')['date', 'adj_close'].agg(['first', 'last'])\n"
          ]
        }
      ]
    },
    {
      "cell_type": "code",
      "source": [
        "Z = dfZ.dt.days\n",
        "Z.head(5)\n",
        "dfR = dfY/dfX/Z\n",
        "dfR.replace([np.inf, -np.inf], np.nan, inplace=True)\n",
        "dfR.dropna(inplace=True)\n",
        "dfR.sort_values(ascending=False, inplace=True)\n",
        "print(dfR.head(20))\n",
        "# The top 20 stocks have been printed"
      ],
      "metadata": {
        "id": "FXXdQfyL8my-",
        "colab": {
          "base_uri": "https://localhost:8080/"
        },
        "outputId": "9c8c949d-ee78-430c-a33f-f830ee7669e6"
      },
      "execution_count": 11,
      "outputs": [
        {
          "output_type": "stream",
          "name": "stdout",
          "text": [
            "symbol\n",
            "NVO      3.302876e+06\n",
            "NKE      2.959418e+03\n",
            "DCI      3.869564e+02\n",
            "TJX      2.063167e+02\n",
            "WTRG     7.221605e+00\n",
            "TTC      6.224708e+00\n",
            "USB      4.078555e+00\n",
            "MCD      3.374097e+00\n",
            "PII      2.554223e+00\n",
            "HD       1.506773e+00\n",
            "IQMD     1.001014e+00\n",
            "AOGOU    9.990020e-01\n",
            "PCCT     9.959839e-01\n",
            "ETN      9.076372e-01\n",
            "FRLAW    8.888889e-01\n",
            "HAS      7.035260e-01\n",
            "KO       6.680578e-01\n",
            "MO       6.485381e-01\n",
            "KOL      5.786728e-01\n",
            "HRL      5.406652e-01\n",
            "dtype: float64\n"
          ]
        }
      ]
    },
    {
      "cell_type": "code",
      "source": [
        "#Question 3: Create a copy of this notebook called assignment-aws and follow the instructions in readme to run the notebook on AWS compute instance.\n",
        "# Compare performance of running natively on colab and colab+AWS"
      ],
      "metadata": {
        "id": "c1jLuH32dDhR"
      },
      "execution_count": 12,
      "outputs": []
    }
  ]
}